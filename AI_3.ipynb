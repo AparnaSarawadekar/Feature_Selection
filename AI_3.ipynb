{
  "nbformat": 4,
  "nbformat_minor": 0,
  "metadata": {
    "colab": {
      "provenance": []
    },
    "kernelspec": {
      "name": "python3",
      "display_name": "Python 3"
    },
    "language_info": {
      "name": "python"
    }
  },
  "cells": [
    {
      "cell_type": "code",
      "execution_count": 1,
      "metadata": {
        "id": "IJjCHXZOu9Jx"
      },
      "outputs": [],
      "source": [
        "import numpy as np\n",
        "import os\n",
        "from sklearn.model_selection import train_test_split\n",
        "from sklearn.preprocessing import StandardScaler\n",
        "from sklearn.metrics import accuracy_score"
      ]
    },
    {
      "cell_type": "code",
      "source": [
        "from google.colab import drive\n",
        "drive.mount('/content/drive')"
      ],
      "metadata": {
        "colab": {
          "base_uri": "https://localhost:8080/"
        },
        "id": "IdYZTHpVt344",
        "outputId": "ad9fd6aa-ad1b-4ecc-a5da-2de203b5085e"
      },
      "execution_count": 2,
      "outputs": [
        {
          "output_type": "stream",
          "name": "stdout",
          "text": [
            "Drive already mounted at /content/drive; to attempt to forcibly remount, call drive.mount(\"/content/drive\", force_remount=True).\n"
          ]
        }
      ]
    },
    {
      "cell_type": "code",
      "source": [
        "small_data_dir = '/content/drive/My Drive/CS205_small_Data'\n",
        "large_data_dir = '/content/drive/My Drive/CS205_large_Data'"
      ],
      "metadata": {
        "id": "Q4MTCbKVpC0d"
      },
      "execution_count": 3,
      "outputs": []
    },
    {
      "cell_type": "code",
      "source": [
        "def load_and_normalize_dataset(file_path):\n",
        "    data = np.loadtxt(file_path)\n",
        "    X = data[:, 1:]\n",
        "    y = data[:, 0].astype(int)\n",
        "    X = (X - np.mean(X, axis=0)) / np.std(X, axis=0)  # Normalize features\n",
        "    return X, y\n",
        "\n",
        "# Function to normalize features\n",
        "def normalize_features(X):\n",
        "    scaler = StandardScaler()\n",
        "    X_scaled = scaler.fit_transform(X)\n",
        "    return X_scaled"
      ],
      "metadata": {
        "id": "v7mnm0qXvL0d"
      },
      "execution_count": 4,
      "outputs": []
    },
    {
      "cell_type": "code",
      "source": [
        "#Implement the Nearest Neighbor Classifier\n",
        "def nearest_neighbor(X_train, y_train, X_test):\n",
        "    predictions = []\n",
        "    for test_instance in X_test:\n",
        "        distances = np.linalg.norm(X_train - test_instance, axis=1)\n",
        "        nearest_index = np.argmin(distances)\n",
        "        predictions.append(y_train[nearest_index])\n",
        "    return np.array(predictions)"
      ],
      "metadata": {
        "id": "1QwSn1jIlMGf"
      },
      "execution_count": 5,
      "outputs": []
    },
    {
      "cell_type": "code",
      "source": [
        "#  Feature Selection Methods\n",
        "def forward_selection(X, y):\n",
        "    n_features = X.shape[1]\n",
        "    selected_features = []\n",
        "    best_accuracy = 0\n",
        "\n",
        "    for _ in range(n_features):\n",
        "        best_feature = None\n",
        "        for feature in range(n_features):\n",
        "            if feature in selected_features:\n",
        "                continue\n",
        "            features_to_test = selected_features + [feature]\n",
        "            accuracy = cross_val_accuracy(X[:, features_to_test], y)\n",
        "            if accuracy > best_accuracy:\n",
        "                best_accuracy = accuracy\n",
        "                best_feature = feature\n",
        "        if best_feature is not None:\n",
        "            selected_features.append(best_feature)\n",
        "    return selected_features\n",
        "\n",
        "def backward_elimination(X, y):\n",
        "    n_features = X.shape[1]\n",
        "    selected_features = list(range(n_features))\n",
        "    best_accuracy = cross_val_accuracy(X, y)\n",
        "\n",
        "    for _ in range(n_features):\n",
        "        worst_feature = None\n",
        "        for feature in selected_features:\n",
        "            features_to_test = [f for f in selected_features if f != feature]\n",
        "            accuracy = cross_val_accuracy(X[:, features_to_test], y)\n",
        "            if accuracy > best_accuracy:\n",
        "                best_accuracy = accuracy\n",
        "                worst_feature = feature\n",
        "        if worst_feature is not None:\n",
        "            selected_features.remove(worst_feature)\n",
        "    return selected_features"
      ],
      "metadata": {
        "id": "hR58dNVHlR_T"
      },
      "execution_count": 6,
      "outputs": []
    },
    {
      "cell_type": "code",
      "source": [
        "#  Evaluate Performance\n",
        "def cross_val_accuracy(X, y, k=5):\n",
        "    accuracies = []\n",
        "    X_train, X_test, y_train, y_test = train_test_split(X, y, test_size=0.2)\n",
        "    y_pred = nearest_neighbor(X_train, y_train, X_test)\n",
        "    accuracy = accuracy_score(y_test, y_pred)\n",
        "    accuracies.append(accuracy)\n",
        "    return np.mean(accuracies)"
      ],
      "metadata": {
        "id": "rp51i_ZNlWKW"
      },
      "execution_count": 7,
      "outputs": []
    },
    {
      "cell_type": "code",
      "source": [
        "file_name = input(\"Type in the file name to test: \")\n",
        "\n",
        "file_path = None\n",
        "small_file_path = os.path.join(small_data_dir, file_name)\n",
        "large_file_path = os.path.join(large_data_dir, file_name)\n",
        "\n",
        "if os.path.exists(small_file_path):\n",
        "    file_path = small_file_path\n",
        "elif os.path.exists(large_file_path):\n",
        "    file_path = large_file_path\n",
        "else:\n",
        "    print(\"File not found in the specified directories.\")\n",
        "    exit()\n",
        "\n",
        "\n",
        "# Load and normalize the dataset\n",
        "if file_path:\n",
        "    X, y = load_and_normalize_dataset(file_path)\n",
        "\n",
        "    print(\"Evaluating Nearest Neighbor Classifier on Original Data\")\n",
        "    original_accuracy = cross_val_accuracy(X, y)\n",
        "    print(f'Original Accuracy: {original_accuracy:.4f}')\n",
        "\n",
        "    # Perform Feature Selection and Evaluate\n",
        "    print(\"\\nPerforming Feature Selection and Evaluating\")"
      ],
      "metadata": {
        "colab": {
          "base_uri": "https://localhost:8080/"
        },
        "id": "JTBlzkWPlYZb",
        "outputId": "df9a8d44-b980-4409-886f-41d5584c359b"
      },
      "execution_count": 11,
      "outputs": [
        {
          "output_type": "stream",
          "name": "stdout",
          "text": [
            "Type in the file name to test: CS205_small_Data__19.txt\n",
            "Evaluating Nearest Neighbor Classifier on Original Data\n",
            "Original Accuracy: 0.7500\n",
            "\n",
            "Performing Feature Selection and Evaluating\n"
          ]
        }
      ]
    },
    {
      "cell_type": "code",
      "source": [
        "# Forward Selection\n",
        "selected_features_forward = forward_selection(X, y)\n",
        "accuracy_forward = cross_val_accuracy(X[:, selected_features_forward], y)\n",
        "print(f'Forward Selection: Features: {selected_features_forward}, Accuracy: {accuracy_forward:.4f}')\n",
        "\n",
        "# Backward Elimination\n",
        "selected_features_backward = backward_elimination(X, y)\n",
        "accuracy_backward = cross_val_accuracy(X[:, selected_features_backward], y)\n",
        "print(f'Backward Elimination: Features: {selected_features_backward}, Accuracy: {accuracy_backward:.4f}')"
      ],
      "metadata": {
        "colab": {
          "base_uri": "https://localhost:8080/"
        },
        "id": "X2jOtS_0lc_v",
        "outputId": "7b74207d-230e-4450-e94d-9c1ba7b6f144"
      },
      "execution_count": 12,
      "outputs": [
        {
          "output_type": "stream",
          "name": "stdout",
          "text": [
            "Forward Selection: Features: [5, 8, 0], Accuracy: 0.9100\n",
            "Backward Elimination: Features: [0, 1, 2, 4, 5, 6, 8, 11], Accuracy: 0.7400\n"
          ]
        }
      ]
    },
    {
      "cell_type": "code",
      "source": [],
      "metadata": {
        "id": "b8ZQRbN0uccR"
      },
      "execution_count": null,
      "outputs": []
    }
  ]
}